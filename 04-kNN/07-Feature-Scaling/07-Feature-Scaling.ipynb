{
 "cells": [
  {
   "cell_type": "markdown",
   "metadata": {},
   "source": [
    "## 07 数据归一化处理"
   ]
  },
  {
   "cell_type": "code",
   "execution_count": 1,
   "metadata": {
    "collapsed": true
   },
   "outputs": [],
   "source": [
    "import numpy as np\n",
    "import matplotlib.pyplot as plt"
   ]
  },
  {
   "cell_type": "markdown",
   "metadata": {},
   "source": [
    "### 最值归一化 Normalization"
   ]
  },
  {
   "cell_type": "code",
   "execution_count": 8,
   "metadata": {
    "collapsed": true
   },
   "outputs": [],
   "source": [
    "x = np.random.randint(0, 100, 100) "
   ]
  },
  {
   "cell_type": "code",
   "execution_count": 9,
   "metadata": {},
   "outputs": [
    {
     "data": {
      "text/plain": [
       "array([65, 72, 48, 67, 45, 30, 10, 43,  6, 20, 25, 87, 50, 65, 41,  6, 55,\n",
       "        3, 93, 93, 89, 25, 31, 29, 82, 34,  2, 20,  3, 54, 62, 35,  0, 62,\n",
       "       70, 88, 52, 72,  1,  4, 79, 32, 42, 55, 89, 75, 97, 21, 40, 76, 81,\n",
       "        7, 13, 61, 19, 35, 21, 12, 99, 70, 98,  6,  5,  2, 54,  2,  5, 84,\n",
       "       71,  5,  7, 23, 37, 39,  4, 70, 74, 90, 13, 45, 44, 16, 24, 37, 53,\n",
       "       43, 20,  9, 52, 65, 26, 82, 36, 38, 55, 35, 37, 47, 86, 95])"
      ]
     },
     "execution_count": 9,
     "metadata": {},
     "output_type": "execute_result"
    }
   ],
   "source": [
    "x"
   ]
  },
  {
   "cell_type": "code",
   "execution_count": 10,
   "metadata": {},
   "outputs": [
    {
     "data": {
      "text/plain": [
       "array([ 0.65656566,  0.72727273,  0.48484848,  0.67676768,  0.45454545,\n",
       "        0.3030303 ,  0.1010101 ,  0.43434343,  0.06060606,  0.2020202 ,\n",
       "        0.25252525,  0.87878788,  0.50505051,  0.65656566,  0.41414141,\n",
       "        0.06060606,  0.55555556,  0.03030303,  0.93939394,  0.93939394,\n",
       "        0.8989899 ,  0.25252525,  0.31313131,  0.29292929,  0.82828283,\n",
       "        0.34343434,  0.02020202,  0.2020202 ,  0.03030303,  0.54545455,\n",
       "        0.62626263,  0.35353535,  0.        ,  0.62626263,  0.70707071,\n",
       "        0.88888889,  0.52525253,  0.72727273,  0.01010101,  0.04040404,\n",
       "        0.7979798 ,  0.32323232,  0.42424242,  0.55555556,  0.8989899 ,\n",
       "        0.75757576,  0.97979798,  0.21212121,  0.4040404 ,  0.76767677,\n",
       "        0.81818182,  0.07070707,  0.13131313,  0.61616162,  0.19191919,\n",
       "        0.35353535,  0.21212121,  0.12121212,  1.        ,  0.70707071,\n",
       "        0.98989899,  0.06060606,  0.05050505,  0.02020202,  0.54545455,\n",
       "        0.02020202,  0.05050505,  0.84848485,  0.71717172,  0.05050505,\n",
       "        0.07070707,  0.23232323,  0.37373737,  0.39393939,  0.04040404,\n",
       "        0.70707071,  0.74747475,  0.90909091,  0.13131313,  0.45454545,\n",
       "        0.44444444,  0.16161616,  0.24242424,  0.37373737,  0.53535354,\n",
       "        0.43434343,  0.2020202 ,  0.09090909,  0.52525253,  0.65656566,\n",
       "        0.26262626,  0.82828283,  0.36363636,  0.38383838,  0.55555556,\n",
       "        0.35353535,  0.37373737,  0.47474747,  0.86868687,  0.95959596])"
      ]
     },
     "execution_count": 10,
     "metadata": {},
     "output_type": "execute_result"
    }
   ],
   "source": [
    "(x - np.min(x)) / (np.max(x) - np.min(x))"
   ]
  },
  {
   "cell_type": "code",
   "execution_count": 11,
   "metadata": {
    "collapsed": true
   },
   "outputs": [],
   "source": [
    "X = np.random.randint(0, 100, (50, 2))"
   ]
  },
  {
   "cell_type": "code",
   "execution_count": 12,
   "metadata": {
    "collapsed": true
   },
   "outputs": [],
   "source": [
    "X = np.array(X, dtype=float)"
   ]
  },
  {
   "cell_type": "code",
   "execution_count": 13,
   "metadata": {},
   "outputs": [
    {
     "data": {
      "text/plain": [
       "array([[ 38.,   4.],\n",
       "       [ 83.,  24.],\n",
       "       [ 66.,  57.],\n",
       "       [ 41.,  63.],\n",
       "       [ 36.,  69.],\n",
       "       [ 34.,  58.],\n",
       "       [ 27.,  71.],\n",
       "       [ 10.,  14.],\n",
       "       [ 51.,  49.],\n",
       "       [  9.,  61.]])"
      ]
     },
     "execution_count": 13,
     "metadata": {},
     "output_type": "execute_result"
    }
   ],
   "source": [
    "X[:10,:]"
   ]
  },
  {
   "cell_type": "code",
   "execution_count": 14,
   "metadata": {
    "collapsed": true
   },
   "outputs": [],
   "source": [
    "X[:,0] = (X[:,0] - np.min(X[:,0])) / (np.max(X[:,0]) - np.min(X[:,0]))\n",
    "X[:,1] = (X[:,1] - np.min(X[:,1])) / (np.max(X[:,1]) - np.min(X[:,1]))"
   ]
  },
  {
   "cell_type": "code",
   "execution_count": 15,
   "metadata": {},
   "outputs": [
    {
     "data": {
      "text/plain": [
       "array([[ 0.38383838,  0.02061856],\n",
       "       [ 0.83838384,  0.22680412],\n",
       "       [ 0.66666667,  0.56701031],\n",
       "       [ 0.41414141,  0.62886598],\n",
       "       [ 0.36363636,  0.69072165],\n",
       "       [ 0.34343434,  0.57731959],\n",
       "       [ 0.27272727,  0.71134021],\n",
       "       [ 0.1010101 ,  0.12371134],\n",
       "       [ 0.51515152,  0.48453608],\n",
       "       [ 0.09090909,  0.60824742]])"
      ]
     },
     "execution_count": 15,
     "metadata": {},
     "output_type": "execute_result"
    }
   ],
   "source": [
    "X[:10,:]"
   ]
  },
  {
   "cell_type": "code",
   "execution_count": 16,
   "metadata": {},
   "outputs": [
    {
     "data": {
      "image/png": "[encoded data removed]",
      "text/plain": [
       "<matplotlib.figure.Figure at 0x1136eea58>"
      ]
     },
     "metadata": {},
     "output_type": "display_data"
    }
   ],
   "source": [
    "plt.scatter(X[:,0], X[:,1])\n",
    "plt.show()"
   ]
  },
  {
   "cell_type": "code",
   "execution_count": 17,
   "metadata": {},
   "outputs": [
    {
     "data": {
      "text/plain": [
       "0.48868686868686873"
      ]
     },
     "execution_count": 17,
     "metadata": {},
     "output_type": "execute_result"
    }
   ],
   "source": [
    "np.mean(X[:,0])"
   ]
  },
  {
   "cell_type": "code",
   "execution_count": 18,
   "metadata": {},
   "outputs": [
    {
     "data": {
      "text/plain": [
       "0.27501390824760014"
      ]
     },
     "execution_count": 18,
     "metadata": {},
     "output_type": "execute_result"
    }
   ],
   "source": [
    "np.std(X[:,0])"
   ]
  },
  {
   "cell_type": "code",
   "execution_count": 19,
   "metadata": {},
   "outputs": [
    {
     "data": {
      "text/plain": [
       "0.48515463917525781"
      ]
     },
     "execution_count": 19,
     "metadata": {},
     "output_type": "execute_result"
    }
   ],
   "source": [
    "np.mean(X[:,1])"
   ]
  },
  {
   "cell_type": "code",
   "execution_count": 20,
   "metadata": {},
   "outputs": [
    {
     "data": {
      "text/plain": [
       "0.30502511879336947"
      ]
     },
     "execution_count": 20,
     "metadata": {},
     "output_type": "execute_result"
    }
   ],
   "source": [
    "np.std(X[:,1])"
   ]
  },
  {
   "cell_type": "markdown",
   "metadata": {},
   "source": [
    "### 均值方差归一化 Standardization"
   ]
  },
  {
   "cell_type": "code",
   "execution_count": 21,
   "metadata": {
    "collapsed": true
   },
   "outputs": [],
   "source": [
    "X2 = np.random.randint(0, 100, (50, 2))"
   ]
  },
  {
   "cell_type": "code",
   "execution_count": 22,
   "metadata": {
    "collapsed": true
   },
   "outputs": [],
   "source": [
    "X2 = np.array(X2, dtype=float)"
   ]
  },
  {
   "cell_type": "code",
   "execution_count": 23,
   "metadata": {},
   "outputs": [
    {
     "data": {
      "text/plain": [
       "array([[ 91.,  88.],\n",
       "       [ 22.,   6.],\n",
       "       [ 40.,  41.],\n",
       "       [ 68.,  41.],\n",
       "       [ 65.,  70.],\n",
       "       [ 36.,  92.],\n",
       "       [  5.,  87.],\n",
       "       [ 81.,  26.],\n",
       "       [ 45.,   3.],\n",
       "       [  8.,  55.]])"
      ]
     },
     "execution_count": 23,
     "metadata": {},
     "output_type": "execute_result"
    }
   ],
   "source": [
    "X2[:10,:]"
   ]
  },
  {
   "cell_type": "code",
   "execution_count": 24,
   "metadata": {
    "collapsed": true
   },
   "outputs": [],
   "source": [
    "X2[:,0] = (X2[:,0] - np.mean(X2[:,0])) / np.std(X2[:,0])\n",
    "X2[:,1] = (X2[:,1] - np.mean(X2[:,1])) / np.std(X2[:,1])"
   ]
  },
  {
   "cell_type": "code",
   "execution_count": 25,
   "metadata": {},
   "outputs": [
    {
     "data": {
      "image/png": "[encoded data removed]",
      "text/plain": [
       "<matplotlib.figure.Figure at 0x1136eea20>"
      ]
     },
     "metadata": {},
     "output_type": "display_data"
    }
   ],
   "source": [
    "plt.scatter(X2[:,0], X2[:,1])\n",
    "plt.show()"
   ]
  },
  {
   "cell_type": "code",
   "execution_count": 26,
   "metadata": {},
   "outputs": [
    {
     "data": {
      "text/plain": [
       "8.8817841970012528e-17"
      ]
     },
     "execution_count": 26,
     "metadata": {},
     "output_type": "execute_result"
    }
   ],
   "source": [
    "np.mean(X2[:,0])"
   ]
  },
  {
   "cell_type": "code",
   "execution_count": 27,
   "metadata": {},
   "outputs": [
    {
     "data": {
      "text/plain": [
       "1.0"
      ]
     },
     "execution_count": 27,
     "metadata": {},
     "output_type": "execute_result"
    }
   ],
   "source": [
    "np.std(X2[:,0])"
   ]
  },
  {
   "cell_type": "code",
   "execution_count": 28,
   "metadata": {},
   "outputs": [
    {
     "data": {
      "text/plain": [
       "-3.552713678800501e-17"
      ]
     },
     "execution_count": 28,
     "metadata": {},
     "output_type": "execute_result"
    }
   ],
   "source": [
    "np.mean(X2[:,1])"
   ]
  },
  {
   "cell_type": "code",
   "execution_count": 29,
   "metadata": {},
   "outputs": [
    {
     "data": {
      "text/plain": [
       "1.0"
      ]
     },
     "execution_count": 29,
     "metadata": {},
     "output_type": "execute_result"
    }
   ],
   "source": [
    "np.std(X2[:,1])"
   ]
  }
 ],
 "metadata": {
  "kernelspec": {
   "display_name": "Python 3",
   "language": "python",
   "name": "python3"
  },
  "language_info": {
   "codemirror_mode": {
    "name": "ipython",
    "version": 3
   },
   "file_extension": ".py",
   "mimetype": "text/x-python",
   "name": "python",
   "nbconvert_exporter": "python",
   "pygments_lexer": "ipython3",
   "version": "3.6.3"
  }
 },
 "nbformat": 4,
 "nbformat_minor": 2
}
